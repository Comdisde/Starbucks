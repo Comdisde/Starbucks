{
 "cells": [
  {
   "cell_type": "code",
   "execution_count": 88,
   "metadata": {},
   "outputs": [],
   "source": [
    "from __future__ import division\n",
    "import pandas as pd\n",
    "import numpy as np \n",
    "import matplotlib.pyplot as plt\n",
    "import seaborn as sns\n",
    "pd.set_option(\"display.max_columns\", 200)\n",
    "\n",
    "%matplotlib inline"
   ]
  },
  {
   "cell_type": "code",
   "execution_count": 151,
   "metadata": {},
   "outputs": [],
   "source": [
    "from sklearn.neural_network import MLPClassifier\n",
    "from sklearn.preprocessing import MinMaxScaler, OneHotEncoder, LabelEncoder, StandardScaler\n",
    "from sklearn.ensemble import AdaBoostClassifier, RandomForestClassifier, VotingClassifier, ExtraTreesClassifier\n",
    "from sklearn.model_selection import GridSearchCV, RandomizedSearchCV, train_test_split\n",
    "from sklearn.metrics import r2_score, mean_absolute_error, accuracy_score, f1_score\n",
    "from sklearn.linear_model import LogisticRegression\n",
    "from sklearn.decomposition import PCA\n",
    "from sklearn.svm import SVC\n",
    "from xgboost import XGBClassifier\n",
    "from sklearn.manifold import MDS\n",
    "\n",
    "\n",
    "from Tools import frecuencia, metricas\n",
    "\n",
    "import pickle"
   ]
  },
  {
   "cell_type": "code",
   "execution_count": null,
   "metadata": {},
   "outputs": [],
   "source": []
  },
  {
   "cell_type": "code",
   "execution_count": 52,
   "metadata": {},
   "outputs": [],
   "source": [
    "df=pd.read_csv(\"Starbucks_Cluster_600_rempl.csv\", index_col=\"Unnamed: 0\")\n",
    "df.Bebida.replace([\"Cold \",\"0\"], [\"Cold\", np.nan]\n",
    "                  , inplace=True)\n",
    "df.Bebida.replace([\"Jugo\",\"CJQ\", \"Te\"], np.nan, inplace=True)\n",
    "df[\"Local/Llegar\"].replace(\"Local \",\"Local\", inplace=True)\n",
    "df.dropna(inplace=True)"
   ]
  },
  {
   "cell_type": "code",
   "execution_count": 54,
   "metadata": {},
   "outputs": [
    {
     "data": {
      "text/html": [
       "<div>\n",
       "<style scoped>\n",
       "    .dataframe tbody tr th:only-of-type {\n",
       "        vertical-align: middle;\n",
       "    }\n",
       "\n",
       "    .dataframe tbody tr th {\n",
       "        vertical-align: top;\n",
       "    }\n",
       "\n",
       "    .dataframe thead th {\n",
       "        text-align: right;\n",
       "    }\n",
       "</style>\n",
       "<table border=\"1\" class=\"dataframe\">\n",
       "  <thead>\n",
       "    <tr style=\"text-align: right;\">\n",
       "      <th></th>\n",
       "      <th>Bebida</th>\n",
       "      <th>Conteo</th>\n",
       "      <th>Frecuencia</th>\n",
       "    </tr>\n",
       "  </thead>\n",
       "  <tbody>\n",
       "    <tr>\n",
       "      <th>0</th>\n",
       "      <td>Hot</td>\n",
       "      <td>387</td>\n",
       "      <td>0.728814</td>\n",
       "    </tr>\n",
       "    <tr>\n",
       "      <th>1</th>\n",
       "      <td>Cold</td>\n",
       "      <td>80</td>\n",
       "      <td>0.150659</td>\n",
       "    </tr>\n",
       "    <tr>\n",
       "      <th>2</th>\n",
       "      <td>Frappe</td>\n",
       "      <td>64</td>\n",
       "      <td>0.120527</td>\n",
       "    </tr>\n",
       "  </tbody>\n",
       "</table>\n",
       "</div>"
      ],
      "text/plain": [
       "   Bebida  Conteo  Frecuencia\n",
       "0     Hot     387    0.728814\n",
       "1    Cold      80    0.150659\n",
       "2  Frappe      64    0.120527"
      ]
     },
     "execution_count": 54,
     "metadata": {},
     "output_type": "execute_result"
    }
   ],
   "source": [
    "frecuencia(df, \"Bebida\")"
   ]
  },
  {
   "cell_type": "code",
   "execution_count": 177,
   "metadata": {},
   "outputs": [],
   "source": [
    "lbl=LabelEncoder()\n",
    "lbl.fit(df.Bebida)\n",
    "df.Bebida=lbl.transform(df.Bebida)"
   ]
  },
  {
   "cell_type": "code",
   "execution_count": 57,
   "metadata": {
    "scrolled": false
   },
   "outputs": [],
   "source": [
    "df.Hora=pd.to_timedelta(df.Hora.map(lambda x: x+\":00\")).dt.seconds/60**2\n"
   ]
  },
  {
   "cell_type": "code",
   "execution_count": 59,
   "metadata": {},
   "outputs": [
    {
     "data": {
      "text/html": [
       "<div>\n",
       "<style scoped>\n",
       "    .dataframe tbody tr th:only-of-type {\n",
       "        vertical-align: middle;\n",
       "    }\n",
       "\n",
       "    .dataframe tbody tr th {\n",
       "        vertical-align: top;\n",
       "    }\n",
       "\n",
       "    .dataframe thead th {\n",
       "        text-align: right;\n",
       "    }\n",
       "</style>\n",
       "<table border=\"1\" class=\"dataframe\">\n",
       "  <thead>\n",
       "    <tr style=\"text-align: right;\">\n",
       "      <th></th>\n",
       "      <th>Dinero gastado</th>\n",
       "      <th>Total personas</th>\n",
       "      <th>Total Hombres</th>\n",
       "      <th>Total Mujeres</th>\n",
       "      <th>Hora</th>\n",
       "      <th>Edad</th>\n",
       "      <th>Local/Llegar</th>\n",
       "      <th>Bebida</th>\n",
       "      <th>Comida</th>\n",
       "      <th>Dia</th>\n",
       "      <th>cl</th>\n",
       "    </tr>\n",
       "  </thead>\n",
       "  <tbody>\n",
       "    <tr>\n",
       "      <th>0</th>\n",
       "      <td>25</td>\n",
       "      <td>1</td>\n",
       "      <td>0</td>\n",
       "      <td>1</td>\n",
       "      <td>8.100000</td>\n",
       "      <td>20-30</td>\n",
       "      <td>Local</td>\n",
       "      <td>2</td>\n",
       "      <td>0</td>\n",
       "      <td>martes</td>\n",
       "      <td>Trabajador</td>\n",
       "    </tr>\n",
       "    <tr>\n",
       "      <th>1</th>\n",
       "      <td>29</td>\n",
       "      <td>1</td>\n",
       "      <td>0</td>\n",
       "      <td>1</td>\n",
       "      <td>8.116667</td>\n",
       "      <td>40-50</td>\n",
       "      <td>Local</td>\n",
       "      <td>2</td>\n",
       "      <td>Rollo</td>\n",
       "      <td>martes</td>\n",
       "      <td>Trabajador</td>\n",
       "    </tr>\n",
       "    <tr>\n",
       "      <th>2</th>\n",
       "      <td>48</td>\n",
       "      <td>1</td>\n",
       "      <td>0</td>\n",
       "      <td>1</td>\n",
       "      <td>8.150000</td>\n",
       "      <td>20-30</td>\n",
       "      <td>Llevar</td>\n",
       "      <td>2</td>\n",
       "      <td>0</td>\n",
       "      <td>martes</td>\n",
       "      <td>Trabajador</td>\n",
       "    </tr>\n",
       "    <tr>\n",
       "      <th>3</th>\n",
       "      <td>0</td>\n",
       "      <td>1</td>\n",
       "      <td>1</td>\n",
       "      <td>0</td>\n",
       "      <td>8.166667</td>\n",
       "      <td>40-50</td>\n",
       "      <td>Local</td>\n",
       "      <td>1</td>\n",
       "      <td>0</td>\n",
       "      <td>martes</td>\n",
       "      <td>Trabajador</td>\n",
       "    </tr>\n",
       "    <tr>\n",
       "      <th>6</th>\n",
       "      <td>25</td>\n",
       "      <td>1</td>\n",
       "      <td>1</td>\n",
       "      <td>0</td>\n",
       "      <td>8.483333</td>\n",
       "      <td>40-50</td>\n",
       "      <td>Llevar</td>\n",
       "      <td>2</td>\n",
       "      <td>0</td>\n",
       "      <td>martes</td>\n",
       "      <td>Trabajador</td>\n",
       "    </tr>\n",
       "  </tbody>\n",
       "</table>\n",
       "</div>"
      ],
      "text/plain": [
       "   Dinero gastado  Total personas  Total Hombres  Total Mujeres      Hora  \\\n",
       "0              25               1              0              1  8.100000   \n",
       "1              29               1              0              1  8.116667   \n",
       "2              48               1              0              1  8.150000   \n",
       "3               0               1              1              0  8.166667   \n",
       "6              25               1              1              0  8.483333   \n",
       "\n",
       "    Edad Local/Llegar  Bebida Comida     Dia          cl  \n",
       "0  20-30        Local       2      0  martes  Trabajador  \n",
       "1  40-50        Local       2  Rollo  martes  Trabajador  \n",
       "2  20-30       Llevar       2      0  martes  Trabajador  \n",
       "3  40-50        Local       1      0  martes  Trabajador  \n",
       "6  40-50       Llevar       2      0  martes  Trabajador  "
      ]
     },
     "execution_count": 59,
     "metadata": {},
     "output_type": "execute_result"
    }
   ],
   "source": [
    "df.head()"
   ]
  },
  {
   "cell_type": "code",
   "execution_count": 61,
   "metadata": {
    "scrolled": false
   },
   "outputs": [],
   "source": [
    "df=pd.concat([df,pd.get_dummies(df[\"Local/Llegar\"]), pd.get_dummies(df.cl),\n",
    "              pd.get_dummies(df.Dia)], axis=1).copy()\n",
    "#df.Dia=df.Dia.map({\"martes\":2, \"miercoles\":3, \"jueves\":4,\"viernes\":5, \"sabado\":6, \"domingo\":0})"
   ]
  },
  {
   "cell_type": "code",
   "execution_count": 62,
   "metadata": {},
   "outputs": [],
   "source": [
    "var=[\"Total personas\", \"Total Hombres\", \"Total Mujeres\", \"Hora\", \n",
    "     \"domingo\", \"jueves\" , \"martes\" , \"miercoles\", \"sabado\",\"viernes\",\n",
    "     \"Amigos\", \"Estudiante\" ,\"Parejas\",\"Trabajador\"]"
   ]
  },
  {
   "cell_type": "code",
   "execution_count": 81,
   "metadata": {
    "scrolled": false
   },
   "outputs": [],
   "source": [
    "X=df[var].copy()\n",
    "y=df[\"Bebida\"].reset_index(drop=True)"
   ]
  },
  {
   "cell_type": "code",
   "execution_count": 78,
   "metadata": {},
   "outputs": [],
   "source": [
    "std=StandardScaler()\n",
    "std.fit(X)\n",
    "Xs=pd.DataFrame(std.transform(X), columns=X.columns)"
   ]
  },
  {
   "cell_type": "code",
   "execution_count": 157,
   "metadata": {},
   "outputs": [
    {
     "data": {
      "text/plain": [
       "0.9837905013426772"
      ]
     },
     "execution_count": 157,
     "metadata": {},
     "output_type": "execute_result"
    }
   ],
   "source": [
    "n=10\n",
    "pca=PCA(n_components=n)\n",
    "pca.fit(Xs)\n",
    "\n",
    "Xp=pd.DataFrame(pca.transform(Xs), columns=[\"p%s\" %s for s in range(1,n+1)])\n",
    "pca.explained_variance_ratio_.sum()"
   ]
  },
  {
   "cell_type": "code",
   "execution_count": 150,
   "metadata": {},
   "outputs": [
    {
     "name": "stderr",
     "output_type": "stream",
     "text": [
      "C:\\Users\\Comdisde\\Anaconda2\\lib\\site-packages\\ipykernel_launcher.py:4: FutureWarning: reshape is deprecated and will raise in a subsequent release. Please use .values.reshape(...) instead\n",
      "  after removing the cwd from sys.path.\n",
      "C:\\Users\\Comdisde\\Anaconda2\\lib\\site-packages\\ipykernel_launcher.py:6: FutureWarning: reshape is deprecated and will raise in a subsequent release. Please use .values.reshape(...) instead\n",
      "  \n"
     ]
    }
   ],
   "source": [
    "scx=MinMaxScaler()\n",
    "scy=MinMaxScaler()\n",
    "scx.fit(X)\n",
    "scy.fit(y.reshape(-1,1))\n",
    "Xm=pd.DataFrame(scx.transform(X), columns=X.columns)\n",
    "ym=pd.DataFrame(scy.transform(y.reshape(-1,1)))"
   ]
  },
  {
   "cell_type": "code",
   "execution_count": 67,
   "metadata": {},
   "outputs": [],
   "source": [
    "Xt, Xv, yt, yv= train_test_split(Xp,y, test_size=.3)"
   ]
  },
  {
   "cell_type": "markdown",
   "metadata": {},
   "source": [
    "# ML"
   ]
  },
  {
   "cell_type": "code",
   "execution_count": 44,
   "metadata": {
    "scrolled": false
   },
   "outputs": [
    {
     "name": "stdout",
     "output_type": "stream",
     "text": [
      "0.894878706199461\n",
      "0.78125\n"
     ]
    },
    {
     "name": "stderr",
     "output_type": "stream",
     "text": [
      "C:\\Users\\Comdisde\\Anaconda2\\lib\\site-packages\\sklearn\\preprocessing\\label.py:151: DeprecationWarning: The truth value of an empty array is ambiguous. Returning False, but in future this will result in an error. Use `array.size > 0` to check that an array is not empty.\n",
      "  if diff:\n",
      "C:\\Users\\Comdisde\\Anaconda2\\lib\\site-packages\\sklearn\\preprocessing\\label.py:151: DeprecationWarning: The truth value of an empty array is ambiguous. Returning False, but in future this will result in an error. Use `array.size > 0` to check that an array is not empty.\n",
      "  if diff:\n"
     ]
    }
   ],
   "source": [
    "model=XGBClassifier()\n",
    "model.fit(Xt, yt)\n",
    "print model.score(X=Xt,y=yt)\n",
    "print model.score(X=Xv,y=yv)"
   ]
  },
  {
   "cell_type": "code",
   "execution_count": 170,
   "metadata": {},
   "outputs": [
    {
     "name": "stdout",
     "output_type": "stream",
     "text": [
      "Fitting 8 folds for each of 16200 candidates, totalling 129600 fits\n"
     ]
    },
    {
     "name": "stderr",
     "output_type": "stream",
     "text": [
      "[Parallel(n_jobs=-1)]: Done 472 tasks      | elapsed:    3.7s\n",
      "[Parallel(n_jobs=-1)]: Done 2872 tasks      | elapsed:   20.8s\n",
      "[Parallel(n_jobs=-1)]: Done 6872 tasks      | elapsed:   49.3s\n",
      "[Parallel(n_jobs=-1)]: Done 12472 tasks      | elapsed:  1.7min\n",
      "[Parallel(n_jobs=-1)]: Done 19672 tasks      | elapsed:  2.7min\n",
      "[Parallel(n_jobs=-1)]: Done 28472 tasks      | elapsed:  3.8min\n",
      "[Parallel(n_jobs=-1)]: Done 38872 tasks      | elapsed:  5.1min\n",
      "[Parallel(n_jobs=-1)]: Done 50872 tasks      | elapsed:  6.7min\n",
      "[Parallel(n_jobs=-1)]: Done 64472 tasks      | elapsed:  8.5min\n",
      "[Parallel(n_jobs=-1)]: Done 79672 tasks      | elapsed: 10.6min\n",
      "[Parallel(n_jobs=-1)]: Done 96472 tasks      | elapsed: 12.9min\n",
      "[Parallel(n_jobs=-1)]: Done 114872 tasks      | elapsed: 15.6min\n",
      "[Parallel(n_jobs=-1)]: Done 129600 out of 129600 | elapsed: 17.7min finished\n"
     ]
    },
    {
     "data": {
      "text/plain": [
       "GridSearchCV(cv=8, error_score='raise',\n",
       "       estimator=SVC(C=1.0, cache_size=200, class_weight=None, coef0=0.0,\n",
       "  decision_function_shape=None, degree=3, gamma='auto', kernel='rbf',\n",
       "  max_iter=-1, probability=False, random_state=None, shrinking=True,\n",
       "  tol=0.001, verbose=False),\n",
       "       fit_params={}, iid=True, n_jobs=-1,\n",
       "       param_grid={'kernel': ['rbf', 'linear', 'poly', 'sigmoid'], 'C': array([ 0.5,  0.6,  0.7,  0.8,  0.9,  1. ,  1.1,  1.2,  1.3,  1.4,  1.5,\n",
       "        1.6,  1.7,  1.8,  1.9]), 'degree': [1, 2, 3, 4, 5, 6, 7, 8, 9], 'probability': [True], 'coef0': array([ 0.001,  0.002,  0.003,  0.004,  0.005,  0.006,  0.007,  0.008,\n",
       "        0.009,  0.01 ]), 'decision_function_shape': ['ovo', 'ovr', None]},\n",
       "       pre_dispatch='2*n_jobs', refit=True, return_train_score=True,\n",
       "       scoring='accuracy', verbose=True)"
      ]
     },
     "execution_count": 170,
     "metadata": {},
     "output_type": "execute_result"
    }
   ],
   "source": [
    "param_grid_XGB=dict(max_depth=range(15,30,3), n_estimators=range(1000,2000,100), \n",
    "                learning_rate=np.arange(.001,.011,.001), booster=[\"gbtree\", \"gblinear\", \"dart\"],\n",
    "                    base_score=np.arange(.1,1.1,.1)\n",
    "                   )\n",
    "\n",
    "param_grid_RF=dict(n_estimators=range(1000,10000,100), criterion=[\"gini\",  \"entropy\"],\n",
    "                  bootstrap=[True],  min_samples_split=range(200,500,100), \n",
    "                   min_samples_leaf=range(1000,5000,500),max_features=[\"auto\", \"sqrt\", \"log2\"]\n",
    "                   )\n",
    "\n",
    "param_grid_RED=dict(hidden_layer_sizes=[(x,y,z) for x in range(100,1000,100) \n",
    "                                        for y in range(100,1000,100) for z in range(100,1000,100)],\n",
    "                   activation=['identity', 'logistic', 'tanh', 'relu'], \n",
    "                   solver=[\"lbfgs\", \"sgd\",\"adam\"], learning_rate_init=np.arange(.0001, .001,.001),            \n",
    "                   learning_rate=['constant', 'invscaling', 'adaptive'], max_iter=[2000])\n",
    "\n",
    "param_grid_AD=dict(n_estimators=range(1000,10000,100),)\n",
    "\n",
    "\n",
    "param_grid_svc=dict(C=np.arange(.5,2,.1),kernel=[\"rbf\", \"linear\", \"poly\", \"sigmoid\"], degree=range(1,10),\n",
    "                   coef0=np.arange(.001,.011,.001), decision_function_shape=['ovo', 'ovr',None], \n",
    "                    probability=[True])\n",
    "\n",
    "\n",
    "grid= GridSearchCV(model,scoring=\"accuracy\", verbose=True\n",
    "                     , param_grid=param_grid_svc, cv=8, n_jobs=-1)\n",
    "\n",
    "\n",
    "\n",
    "\n",
    "grid.fit(Xt, yt)"
   ]
  },
  {
   "cell_type": "code",
   "execution_count": 175,
   "metadata": {
    "scrolled": false
   },
   "outputs": [
    {
     "name": "stdout",
     "output_type": "stream",
     "text": [
      "0.787061994609\n",
      "0.725\n",
      "0.737891133355\n",
      "0.66292759324\n"
     ]
    }
   ],
   "source": [
    "modelhy=grid.best_estimator_\n",
    "print accuracy_score(modelhy.predict(Xt), yt)\n",
    "print accuracy_score(modelhy.predict(Xv), yv)\n",
    "print f1_score(average='weighted', y_pred=modelhy.predict(Xt), y_true=yt)\n",
    "print f1_score(average='weighted', y_pred=modelhy.predict(Xv), y_true=yv)"
   ]
  },
  {
   "cell_type": "code",
   "execution_count": 97,
   "metadata": {
    "collapsed": true
   },
   "outputs": [],
   "source": [
    "a=pickle.load(open(\"72% bebidas MLP get dummies\", \"rb\"))"
   ]
  },
  {
   "cell_type": "code",
   "execution_count": 98,
   "metadata": {
    "collapsed": true
   },
   "outputs": [],
   "source": [
    "b=pickle.load(open(\"72% bebidas Log get dummies\", \"rb\"))"
   ]
  },
  {
   "cell_type": "code",
   "execution_count": 99,
   "metadata": {
    "collapsed": true
   },
   "outputs": [],
   "source": [
    "c=pickle.load(open(\"73% bebidas RF get dummies\", \"rb\"))"
   ]
  },
  {
   "cell_type": "code",
   "execution_count": 102,
   "metadata": {
    "collapsed": true
   },
   "outputs": [],
   "source": [
    "d=pickle.load(open(\"73% bebidas vc get dummies\", \"rb\"))"
   ]
  },
  {
   "cell_type": "code",
   "execution_count": 118,
   "metadata": {
    "collapsed": true
   },
   "outputs": [],
   "source": [
    "e=pickle.load(open(\"72% bebidas EXT get dummies\", \"rb\"))"
   ]
  },
  {
   "cell_type": "code",
   "execution_count": 185,
   "metadata": {
    "collapsed": true
   },
   "outputs": [],
   "source": [
    "f=pickle.load(open(\"76% bebidas svc get dummies\", \"rb\"))"
   ]
  },
  {
   "cell_type": "code",
   "execution_count": 68,
   "metadata": {},
   "outputs": [],
   "source": [
    "g=pickle.load(open(\"75% bebidas vc get dummies\", \"rb\"))"
   ]
  },
  {
   "cell_type": "code",
   "execution_count": 187,
   "metadata": {},
   "outputs": [
    {
     "name": "stdout",
     "output_type": "stream",
     "text": [
      "0.757412398922\n",
      "0.725\n",
      "0.678351142467\n",
      "0.631266229329\n"
     ]
    }
   ],
   "source": [
    "vc = VotingClassifier(estimators=[('RED', a), (\"Log\", b), (\"RF\", c), \n",
    "                                  (\"vc\",d), (\"svc\", f), (\"XGB\",modelhy), (\"vc2\",g)],\n",
    "                 voting='soft')\n",
    "\n",
    "vc.fit(Xt,yt)\n",
    "\n",
    "\n",
    "print accuracy_score(vc.predict(Xt), yt)\n",
    "print accuracy_score(vc.predict(Xv), yv)\n",
    "print f1_score(average='weighted', y_pred=vc.predict(Xt), y_true=yt)\n",
    "print f1_score(average='weighted', y_pred=vc.predict(Xv), y_true=yv)"
   ]
  },
  {
   "cell_type": "code",
   "execution_count": 69,
   "metadata": {},
   "outputs": [
    {
     "name": "stderr",
     "output_type": "stream",
     "text": [
      "C:\\Users\\Comdisde\\Anaconda2\\lib\\site-packages\\sklearn\\preprocessing\\label.py:151: DeprecationWarning: The truth value of an empty array is ambiguous. Returning False, but in future this will result in an error. Use `array.size > 0` to check that an array is not empty.\n",
      "  if diff:\n"
     ]
    },
    {
     "name": "stdout",
     "output_type": "stream",
     "text": [
      "0.6954177897574124\n"
     ]
    },
    {
     "name": "stderr",
     "output_type": "stream",
     "text": [
      "C:\\Users\\Comdisde\\Anaconda2\\lib\\site-packages\\sklearn\\preprocessing\\label.py:151: DeprecationWarning: The truth value of an empty array is ambiguous. Returning False, but in future this will result in an error. Use `array.size > 0` to check that an array is not empty.\n",
      "  if diff:\n"
     ]
    },
    {
     "name": "stdout",
     "output_type": "stream",
     "text": [
      "0.775\n"
     ]
    },
    {
     "name": "stderr",
     "output_type": "stream",
     "text": [
      "C:\\Users\\Comdisde\\Anaconda2\\lib\\site-packages\\sklearn\\preprocessing\\label.py:151: DeprecationWarning: The truth value of an empty array is ambiguous. Returning False, but in future this will result in an error. Use `array.size > 0` to check that an array is not empty.\n",
      "  if diff:\n"
     ]
    },
    {
     "name": "stdout",
     "output_type": "stream",
     "text": [
      "0.5968236239257007\n",
      "0.6989316239316239\n"
     ]
    },
    {
     "name": "stderr",
     "output_type": "stream",
     "text": [
      "C:\\Users\\Comdisde\\Anaconda2\\lib\\site-packages\\sklearn\\preprocessing\\label.py:151: DeprecationWarning: The truth value of an empty array is ambiguous. Returning False, but in future this will result in an error. Use `array.size > 0` to check that an array is not empty.\n",
      "  if diff:\n"
     ]
    }
   ],
   "source": [
    "print accuracy_score(g.predict(Xt), yt)\n",
    "print accuracy_score(g.predict(Xv), yv)\n",
    "print f1_score(average='weighted', y_pred=g.predict(Xt), y_true=yt)\n",
    "print f1_score(average='weighted', y_pred=g.predict(Xv), y_true=yv)"
   ]
  },
  {
   "cell_type": "code",
   "execution_count": 193,
   "metadata": {
    "collapsed": true,
    "scrolled": true
   },
   "outputs": [],
   "source": [
    "pickle.dump(pca,open(\"PCA get dummies\", \"wb\"))"
   ]
  },
  {
   "cell_type": "code",
   "execution_count": 165,
   "metadata": {},
   "outputs": [],
   "source": [
    "mds=MDS(n_components=2)\n",
    "Xmm=pd.DataFrame(mds.fit_transform(Xm), columns=[\"d1\",\"d2\"])\n"
   ]
  },
  {
   "cell_type": "code",
   "execution_count": 180,
   "metadata": {},
   "outputs": [
    {
     "name": "stderr",
     "output_type": "stream",
     "text": [
      "C:\\Users\\Comdisde\\Anaconda2\\lib\\site-packages\\sklearn\\preprocessing\\label.py:151: DeprecationWarning: The truth value of an empty array is ambiguous. Returning False, but in future this will result in an error. Use `array.size > 0` to check that an array is not empty.\n",
      "  if diff:\n",
      "C:\\Users\\Comdisde\\Anaconda2\\lib\\site-packages\\sklearn\\preprocessing\\label.py:151: DeprecationWarning: The truth value of an empty array is ambiguous. Returning False, but in future this will result in an error. Use `array.size > 0` to check that an array is not empty.\n",
      "  if diff:\n"
     ]
    }
   ],
   "source": [
    "Xmm[\"Predict\"]=lbl.inverse_transform(g.predict(Xp))"
   ]
  },
  {
   "cell_type": "code",
   "execution_count": 182,
   "metadata": {},
   "outputs": [
    {
     "name": "stderr",
     "output_type": "stream",
     "text": [
      "C:\\Users\\Comdisde\\Anaconda2\\lib\\site-packages\\sklearn\\preprocessing\\label.py:151: DeprecationWarning: The truth value of an empty array is ambiguous. Returning False, but in future this will result in an error. Use `array.size > 0` to check that an array is not empty.\n",
      "  if diff:\n"
     ]
    },
    {
     "data": {
      "text/plain": [
       "<seaborn.axisgrid.FacetGrid at 0x138a4c50>"
      ]
     },
     "execution_count": 182,
     "metadata": {},
     "output_type": "execute_result"
    },
    {
     "data": {
      "image/png": "[encoded data removed]",
      "text/plain": [
       "<matplotlib.figure.Figure at 0xf41de48>"
      ]
     },
     "metadata": {},
     "output_type": "display_data"
    }
   ],
   "source": [
    "\n",
    "sns.lmplot(fit_reg=False,data=pd.concat([Xmm, pd.Series(lbl.inverse_transform(y))]\n",
    "                                        , axis=1), x=\"d2\",y=\"d1\",hue=\"Predict\", size=5,\n",
    "            scatter_kws={'s':50})"
   ]
  },
  {
   "cell_type": "code",
   "execution_count": 183,
   "metadata": {},
   "outputs": [
    {
     "data": {
      "text/plain": [
       "<seaborn.axisgrid.FacetGrid at 0x1ec9a7b8>"
      ]
     },
     "execution_count": 183,
     "metadata": {},
     "output_type": "execute_result"
    },
    {
     "data": {
      "image/png": "[encoded data removed]",
      "text/plain": [
       "<matplotlib.figure.Figure at 0x16f007b8>"
      ]
     },
     "metadata": {},
     "output_type": "display_data"
    }
   ],
   "source": [
    "\n",
    "sns.lmplot(fit_reg=False,data=pd.concat([Xmm, y], axis=1), x=\"d2\",y=\"d1\",hue=\"Bebida\", size=5,\n",
    "            scatter_kws={'s':50})"
   ]
  }
 ],
 "metadata": {
  "kernelspec": {
   "display_name": "Python 2",
   "language": "python",
   "name": "python2"
  },
  "language_info": {
   "codemirror_mode": {
    "name": "ipython",
    "version": 2
   },
   "file_extension": ".py",
   "mimetype": "text/x-python",
   "name": "python",
   "nbconvert_exporter": "python",
   "pygments_lexer": "ipython2",
   "version": "2.7.14"
  }
 },
 "nbformat": 4,
 "nbformat_minor": 2
}
